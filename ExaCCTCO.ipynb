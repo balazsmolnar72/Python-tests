{
 "cells": [
  {
   "cell_type": "code",
   "execution_count": 1,
   "metadata": {},
   "outputs": [
    {
     "ename": "KeyError",
     "evalue": "'Contract ARR'",
     "output_type": "error",
     "traceback": [
      "\u001b[1;31m---------------------------------------------------------------------------\u001b[0m",
      "\u001b[1;31mKeyError\u001b[0m                                  Traceback (most recent call last)",
      "File \u001b[1;32mc:\\Users\\BMOLNAR\\AppData\\Local\\Programs\\Python\\Python310\\lib\\site-packages\\pandas\\core\\indexes\\base.py:3629\u001b[0m, in \u001b[0;36mIndex.get_loc\u001b[1;34m(self, key, method, tolerance)\u001b[0m\n\u001b[0;32m   3628\u001b[0m \u001b[39mtry\u001b[39;00m:\n\u001b[1;32m-> 3629\u001b[0m     \u001b[39mreturn\u001b[39;00m \u001b[39mself\u001b[39;49m\u001b[39m.\u001b[39;49m_engine\u001b[39m.\u001b[39;49mget_loc(casted_key)\n\u001b[0;32m   3630\u001b[0m \u001b[39mexcept\u001b[39;00m \u001b[39mKeyError\u001b[39;00m \u001b[39mas\u001b[39;00m err:\n",
      "File \u001b[1;32mc:\\Users\\BMOLNAR\\AppData\\Local\\Programs\\Python\\Python310\\lib\\site-packages\\pandas\\_libs\\index.pyx:136\u001b[0m, in \u001b[0;36mpandas._libs.index.IndexEngine.get_loc\u001b[1;34m()\u001b[0m\n",
      "File \u001b[1;32mc:\\Users\\BMOLNAR\\AppData\\Local\\Programs\\Python\\Python310\\lib\\site-packages\\pandas\\_libs\\index.pyx:163\u001b[0m, in \u001b[0;36mpandas._libs.index.IndexEngine.get_loc\u001b[1;34m()\u001b[0m\n",
      "File \u001b[1;32mpandas\\_libs\\hashtable_class_helper.pxi:5198\u001b[0m, in \u001b[0;36mpandas._libs.hashtable.PyObjectHashTable.get_item\u001b[1;34m()\u001b[0m\n",
      "File \u001b[1;32mpandas\\_libs\\hashtable_class_helper.pxi:5206\u001b[0m, in \u001b[0;36mpandas._libs.hashtable.PyObjectHashTable.get_item\u001b[1;34m()\u001b[0m\n",
      "\u001b[1;31mKeyError\u001b[0m: 'Contract ARR'",
      "\nThe above exception was the direct cause of the following exception:\n",
      "\u001b[1;31mKeyError\u001b[0m                                  Traceback (most recent call last)",
      "Cell \u001b[1;32mIn [1], line 5\u001b[0m\n\u001b[0;32m      2\u001b[0m warnings\u001b[39m.\u001b[39mfilterwarnings(\u001b[39m'\u001b[39m\u001b[39mignore\u001b[39m\u001b[39m'\u001b[39m)\n\u001b[0;32m      3\u001b[0m warnings\u001b[39m.\u001b[39msimplefilter(\u001b[39m'\u001b[39m\u001b[39mignore\u001b[39m\u001b[39m'\u001b[39m)\n\u001b[1;32m----> 5\u001b[0m \u001b[39mimport\u001b[39;00m \u001b[39mLicenseAnalysis\u001b[39;00m \u001b[39mas\u001b[39;00m \u001b[39mLA\u001b[39;00m\n\u001b[0;32m      6\u001b[0m LA\u001b[39m.\u001b[39mprintNoCustomers()\n",
      "File \u001b[1;32mc:\\Work\\Oracle Content\\Oracle Content\\Work\\Cloud Team\\Projects\\Python tests\\LicenseAnalysis.py:75\u001b[0m\n\u001b[0;32m     66\u001b[0m licenses[\u001b[39m\"\u001b[39m\u001b[39mList Price\u001b[39m\u001b[39m\"\u001b[39m]\u001b[39m=\u001b[39mlicenses\u001b[39m.\u001b[39mapply(\n\u001b[0;32m     67\u001b[0m     \u001b[39mlambda\u001b[39;00m row:\n\u001b[0;32m     68\u001b[0m         row[\u001b[39m\"\u001b[39m\u001b[39mList Price CPU\u001b[39m\u001b[39m\"\u001b[39m] \u001b[39mif\u001b[39;00m row[\u001b[39m\"\u001b[39m\u001b[39mLicense type\u001b[39m\u001b[39m\"\u001b[39m] \u001b[39m==\u001b[39m \u001b[39m\"\u001b[39m\u001b[39mProcessor\u001b[39m\u001b[39m\"\u001b[39m \u001b[39melse\u001b[39;00m\n\u001b[0;32m     69\u001b[0m         row[\u001b[39m\"\u001b[39m\u001b[39mList Price NUP\u001b[39m\u001b[39m\"\u001b[39m] \u001b[39mif\u001b[39;00m row[\u001b[39m\"\u001b[39m\u001b[39mLicense type\u001b[39m\u001b[39m\"\u001b[39m] \u001b[39m==\u001b[39m \u001b[39m\"\u001b[39m\u001b[39mNUP\u001b[39m\u001b[39m\"\u001b[39m \u001b[39melse\u001b[39;00m\n\u001b[0;32m     70\u001b[0m         \u001b[39m1\u001b[39m,\n\u001b[0;32m     71\u001b[0m     axis\u001b[39m=\u001b[39m\u001b[39m1\u001b[39m)\n\u001b[0;32m     73\u001b[0m \u001b[39m#The average discount can be calculated based on the ratio of the ARR/Quantity and the list price of the license type\u001b[39;00m\n\u001b[1;32m---> 75\u001b[0m licenses[\u001b[39m\"\u001b[39m\u001b[39mAverage Discount\u001b[39m\u001b[39m\"\u001b[39m]\u001b[39m=\u001b[39mlicenses\u001b[39m.\u001b[39;49mapply(\n\u001b[0;32m     76\u001b[0m     \u001b[39mlambda\u001b[39;49;00m row:\n\u001b[0;32m     77\u001b[0m         (row[\u001b[39m\"\u001b[39;49m\u001b[39mContract ARR\u001b[39;49m\u001b[39m\"\u001b[39;49m]\u001b[39m/\u001b[39;49mrow[\u001b[39m\"\u001b[39;49m\u001b[39mQuantity\u001b[39;49m\u001b[39m\"\u001b[39;49m])\u001b[39m/\u001b[39;49mrow[\u001b[39m\"\u001b[39;49m\u001b[39mList Price\u001b[39;49m\u001b[39m\"\u001b[39;49m]\u001b[39m-\u001b[39;49m\u001b[39m1\u001b[39;49m \u001b[39mif\u001b[39;49;00m row[\u001b[39m\"\u001b[39;49m\u001b[39mList Price\u001b[39;49m\u001b[39m\"\u001b[39;49m]\u001b[39m>\u001b[39;49m\u001b[39m1\u001b[39;49m \u001b[39melse\u001b[39;49;00m \u001b[39m0\u001b[39;49m,\n\u001b[0;32m     78\u001b[0m     axis\u001b[39m=\u001b[39;49m\u001b[39m1\u001b[39;49m)\n\u001b[0;32m     79\u001b[0m licenses[\u001b[39m\"\u001b[39m\u001b[39mTotal Intel Cores Covered\u001b[39m\u001b[39m\"\u001b[39m]\u001b[39m=\u001b[39mlicenses\u001b[39m.\u001b[39mapply(\n\u001b[0;32m     80\u001b[0m     \u001b[39mlambda\u001b[39;00m row:\n\u001b[0;32m     81\u001b[0m         row[\u001b[39m\"\u001b[39m\u001b[39mQuantity\u001b[39m\u001b[39m\"\u001b[39m]\u001b[39m/\u001b[39m\u001b[39m0.5\u001b[39m \u001b[39mif\u001b[39;00m row[\u001b[39m\"\u001b[39m\u001b[39mLicense type\u001b[39m\u001b[39m\"\u001b[39m] \u001b[39m==\u001b[39m \u001b[39m\"\u001b[39m\u001b[39mProcessor\u001b[39m\u001b[39m\"\u001b[39m \u001b[39melse\u001b[39;00m\n\u001b[1;32m   (...)\u001b[0m\n\u001b[0;32m     84\u001b[0m         \u001b[39m0\u001b[39m\n\u001b[0;32m     85\u001b[0m     ,axis\u001b[39m=\u001b[39m\u001b[39m1\u001b[39m)\n\u001b[0;32m     89\u001b[0m \u001b[39mdef\u001b[39;00m \u001b[39mprintLicenseCosts\u001b[39m():    \u001b[39m# We create a new dataframe called license_printable from licenses, just to do the right ouptut formatting.\u001b[39;00m\n",
      "File \u001b[1;32mc:\\Users\\BMOLNAR\\AppData\\Local\\Programs\\Python\\Python310\\lib\\site-packages\\pandas\\core\\frame.py:8848\u001b[0m, in \u001b[0;36mDataFrame.apply\u001b[1;34m(self, func, axis, raw, result_type, args, **kwargs)\u001b[0m\n\u001b[0;32m   8837\u001b[0m \u001b[39mfrom\u001b[39;00m \u001b[39mpandas\u001b[39;00m\u001b[39m.\u001b[39;00m\u001b[39mcore\u001b[39;00m\u001b[39m.\u001b[39;00m\u001b[39mapply\u001b[39;00m \u001b[39mimport\u001b[39;00m frame_apply\n\u001b[0;32m   8839\u001b[0m op \u001b[39m=\u001b[39m frame_apply(\n\u001b[0;32m   8840\u001b[0m     \u001b[39mself\u001b[39m,\n\u001b[0;32m   8841\u001b[0m     func\u001b[39m=\u001b[39mfunc,\n\u001b[1;32m   (...)\u001b[0m\n\u001b[0;32m   8846\u001b[0m     kwargs\u001b[39m=\u001b[39mkwargs,\n\u001b[0;32m   8847\u001b[0m )\n\u001b[1;32m-> 8848\u001b[0m \u001b[39mreturn\u001b[39;00m op\u001b[39m.\u001b[39;49mapply()\u001b[39m.\u001b[39m__finalize__(\u001b[39mself\u001b[39m, method\u001b[39m=\u001b[39m\u001b[39m\"\u001b[39m\u001b[39mapply\u001b[39m\u001b[39m\"\u001b[39m)\n",
      "File \u001b[1;32mc:\\Users\\BMOLNAR\\AppData\\Local\\Programs\\Python\\Python310\\lib\\site-packages\\pandas\\core\\apply.py:733\u001b[0m, in \u001b[0;36mFrameApply.apply\u001b[1;34m(self)\u001b[0m\n\u001b[0;32m    730\u001b[0m \u001b[39melif\u001b[39;00m \u001b[39mself\u001b[39m\u001b[39m.\u001b[39mraw:\n\u001b[0;32m    731\u001b[0m     \u001b[39mreturn\u001b[39;00m \u001b[39mself\u001b[39m\u001b[39m.\u001b[39mapply_raw()\n\u001b[1;32m--> 733\u001b[0m \u001b[39mreturn\u001b[39;00m \u001b[39mself\u001b[39;49m\u001b[39m.\u001b[39;49mapply_standard()\n",
      "File \u001b[1;32mc:\\Users\\BMOLNAR\\AppData\\Local\\Programs\\Python\\Python310\\lib\\site-packages\\pandas\\core\\apply.py:857\u001b[0m, in \u001b[0;36mFrameApply.apply_standard\u001b[1;34m(self)\u001b[0m\n\u001b[0;32m    856\u001b[0m \u001b[39mdef\u001b[39;00m \u001b[39mapply_standard\u001b[39m(\u001b[39mself\u001b[39m):\n\u001b[1;32m--> 857\u001b[0m     results, res_index \u001b[39m=\u001b[39m \u001b[39mself\u001b[39;49m\u001b[39m.\u001b[39;49mapply_series_generator()\n\u001b[0;32m    859\u001b[0m     \u001b[39m# wrap results\u001b[39;00m\n\u001b[0;32m    860\u001b[0m     \u001b[39mreturn\u001b[39;00m \u001b[39mself\u001b[39m\u001b[39m.\u001b[39mwrap_results(results, res_index)\n",
      "File \u001b[1;32mc:\\Users\\BMOLNAR\\AppData\\Local\\Programs\\Python\\Python310\\lib\\site-packages\\pandas\\core\\apply.py:873\u001b[0m, in \u001b[0;36mFrameApply.apply_series_generator\u001b[1;34m(self)\u001b[0m\n\u001b[0;32m    870\u001b[0m \u001b[39mwith\u001b[39;00m option_context(\u001b[39m\"\u001b[39m\u001b[39mmode.chained_assignment\u001b[39m\u001b[39m\"\u001b[39m, \u001b[39mNone\u001b[39;00m):\n\u001b[0;32m    871\u001b[0m     \u001b[39mfor\u001b[39;00m i, v \u001b[39min\u001b[39;00m \u001b[39menumerate\u001b[39m(series_gen):\n\u001b[0;32m    872\u001b[0m         \u001b[39m# ignore SettingWithCopy here in case the user mutates\u001b[39;00m\n\u001b[1;32m--> 873\u001b[0m         results[i] \u001b[39m=\u001b[39m \u001b[39mself\u001b[39;49m\u001b[39m.\u001b[39;49mf(v)\n\u001b[0;32m    874\u001b[0m         \u001b[39mif\u001b[39;00m \u001b[39misinstance\u001b[39m(results[i], ABCSeries):\n\u001b[0;32m    875\u001b[0m             \u001b[39m# If we have a view on v, we need to make a copy because\u001b[39;00m\n\u001b[0;32m    876\u001b[0m             \u001b[39m#  series_generator will swap out the underlying data\u001b[39;00m\n\u001b[0;32m    877\u001b[0m             results[i] \u001b[39m=\u001b[39m results[i]\u001b[39m.\u001b[39mcopy(deep\u001b[39m=\u001b[39m\u001b[39mFalse\u001b[39;00m)\n",
      "File \u001b[1;32mc:\\Work\\Oracle Content\\Oracle Content\\Work\\Cloud Team\\Projects\\Python tests\\LicenseAnalysis.py:77\u001b[0m, in \u001b[0;36m<lambda>\u001b[1;34m(row)\u001b[0m\n\u001b[0;32m     66\u001b[0m licenses[\u001b[39m\"\u001b[39m\u001b[39mList Price\u001b[39m\u001b[39m\"\u001b[39m]\u001b[39m=\u001b[39mlicenses\u001b[39m.\u001b[39mapply(\n\u001b[0;32m     67\u001b[0m     \u001b[39mlambda\u001b[39;00m row:\n\u001b[0;32m     68\u001b[0m         row[\u001b[39m\"\u001b[39m\u001b[39mList Price CPU\u001b[39m\u001b[39m\"\u001b[39m] \u001b[39mif\u001b[39;00m row[\u001b[39m\"\u001b[39m\u001b[39mLicense type\u001b[39m\u001b[39m\"\u001b[39m] \u001b[39m==\u001b[39m \u001b[39m\"\u001b[39m\u001b[39mProcessor\u001b[39m\u001b[39m\"\u001b[39m \u001b[39melse\u001b[39;00m\n\u001b[0;32m     69\u001b[0m         row[\u001b[39m\"\u001b[39m\u001b[39mList Price NUP\u001b[39m\u001b[39m\"\u001b[39m] \u001b[39mif\u001b[39;00m row[\u001b[39m\"\u001b[39m\u001b[39mLicense type\u001b[39m\u001b[39m\"\u001b[39m] \u001b[39m==\u001b[39m \u001b[39m\"\u001b[39m\u001b[39mNUP\u001b[39m\u001b[39m\"\u001b[39m \u001b[39melse\u001b[39;00m\n\u001b[0;32m     70\u001b[0m         \u001b[39m1\u001b[39m,\n\u001b[0;32m     71\u001b[0m     axis\u001b[39m=\u001b[39m\u001b[39m1\u001b[39m)\n\u001b[0;32m     73\u001b[0m \u001b[39m#The average discount can be calculated based on the ratio of the ARR/Quantity and the list price of the license type\u001b[39;00m\n\u001b[0;32m     75\u001b[0m licenses[\u001b[39m\"\u001b[39m\u001b[39mAverage Discount\u001b[39m\u001b[39m\"\u001b[39m]\u001b[39m=\u001b[39mlicenses\u001b[39m.\u001b[39mapply(\n\u001b[0;32m     76\u001b[0m     \u001b[39mlambda\u001b[39;00m row:\n\u001b[1;32m---> 77\u001b[0m         (row[\u001b[39m\"\u001b[39;49m\u001b[39mContract ARR\u001b[39;49m\u001b[39m\"\u001b[39;49m]\u001b[39m/\u001b[39mrow[\u001b[39m\"\u001b[39m\u001b[39mQuantity\u001b[39m\u001b[39m\"\u001b[39m])\u001b[39m/\u001b[39mrow[\u001b[39m\"\u001b[39m\u001b[39mList Price\u001b[39m\u001b[39m\"\u001b[39m]\u001b[39m-\u001b[39m\u001b[39m1\u001b[39m \u001b[39mif\u001b[39;00m row[\u001b[39m\"\u001b[39m\u001b[39mList Price\u001b[39m\u001b[39m\"\u001b[39m]\u001b[39m>\u001b[39m\u001b[39m1\u001b[39m \u001b[39melse\u001b[39;00m \u001b[39m0\u001b[39m,\n\u001b[0;32m     78\u001b[0m     axis\u001b[39m=\u001b[39m\u001b[39m1\u001b[39m)\n\u001b[0;32m     79\u001b[0m licenses[\u001b[39m\"\u001b[39m\u001b[39mTotal Intel Cores Covered\u001b[39m\u001b[39m\"\u001b[39m]\u001b[39m=\u001b[39mlicenses\u001b[39m.\u001b[39mapply(\n\u001b[0;32m     80\u001b[0m     \u001b[39mlambda\u001b[39;00m row:\n\u001b[0;32m     81\u001b[0m         row[\u001b[39m\"\u001b[39m\u001b[39mQuantity\u001b[39m\u001b[39m\"\u001b[39m]\u001b[39m/\u001b[39m\u001b[39m0.5\u001b[39m \u001b[39mif\u001b[39;00m row[\u001b[39m\"\u001b[39m\u001b[39mLicense type\u001b[39m\u001b[39m\"\u001b[39m] \u001b[39m==\u001b[39m \u001b[39m\"\u001b[39m\u001b[39mProcessor\u001b[39m\u001b[39m\"\u001b[39m \u001b[39melse\u001b[39;00m\n\u001b[1;32m   (...)\u001b[0m\n\u001b[0;32m     84\u001b[0m         \u001b[39m0\u001b[39m\n\u001b[0;32m     85\u001b[0m     ,axis\u001b[39m=\u001b[39m\u001b[39m1\u001b[39m)\n\u001b[0;32m     89\u001b[0m \u001b[39mdef\u001b[39;00m \u001b[39mprintLicenseCosts\u001b[39m():    \u001b[39m# We create a new dataframe called license_printable from licenses, just to do the right ouptut formatting.\u001b[39;00m\n",
      "File \u001b[1;32mc:\\Users\\BMOLNAR\\AppData\\Local\\Programs\\Python\\Python310\\lib\\site-packages\\pandas\\core\\series.py:958\u001b[0m, in \u001b[0;36mSeries.__getitem__\u001b[1;34m(self, key)\u001b[0m\n\u001b[0;32m    955\u001b[0m     \u001b[39mreturn\u001b[39;00m \u001b[39mself\u001b[39m\u001b[39m.\u001b[39m_values[key]\n\u001b[0;32m    957\u001b[0m \u001b[39melif\u001b[39;00m key_is_scalar:\n\u001b[1;32m--> 958\u001b[0m     \u001b[39mreturn\u001b[39;00m \u001b[39mself\u001b[39;49m\u001b[39m.\u001b[39;49m_get_value(key)\n\u001b[0;32m    960\u001b[0m \u001b[39mif\u001b[39;00m is_hashable(key):\n\u001b[0;32m    961\u001b[0m     \u001b[39m# Otherwise index.get_value will raise InvalidIndexError\u001b[39;00m\n\u001b[0;32m    962\u001b[0m     \u001b[39mtry\u001b[39;00m:\n\u001b[0;32m    963\u001b[0m         \u001b[39m# For labels that don't resolve as scalars like tuples and frozensets\u001b[39;00m\n",
      "File \u001b[1;32mc:\\Users\\BMOLNAR\\AppData\\Local\\Programs\\Python\\Python310\\lib\\site-packages\\pandas\\core\\series.py:1069\u001b[0m, in \u001b[0;36mSeries._get_value\u001b[1;34m(self, label, takeable)\u001b[0m\n\u001b[0;32m   1066\u001b[0m     \u001b[39mreturn\u001b[39;00m \u001b[39mself\u001b[39m\u001b[39m.\u001b[39m_values[label]\n\u001b[0;32m   1068\u001b[0m \u001b[39m# Similar to Index.get_value, but we do not fall back to positional\u001b[39;00m\n\u001b[1;32m-> 1069\u001b[0m loc \u001b[39m=\u001b[39m \u001b[39mself\u001b[39;49m\u001b[39m.\u001b[39;49mindex\u001b[39m.\u001b[39;49mget_loc(label)\n\u001b[0;32m   1070\u001b[0m \u001b[39mreturn\u001b[39;00m \u001b[39mself\u001b[39m\u001b[39m.\u001b[39mindex\u001b[39m.\u001b[39m_get_values_for_loc(\u001b[39mself\u001b[39m, loc, label)\n",
      "File \u001b[1;32mc:\\Users\\BMOLNAR\\AppData\\Local\\Programs\\Python\\Python310\\lib\\site-packages\\pandas\\core\\indexes\\base.py:3631\u001b[0m, in \u001b[0;36mIndex.get_loc\u001b[1;34m(self, key, method, tolerance)\u001b[0m\n\u001b[0;32m   3629\u001b[0m     \u001b[39mreturn\u001b[39;00m \u001b[39mself\u001b[39m\u001b[39m.\u001b[39m_engine\u001b[39m.\u001b[39mget_loc(casted_key)\n\u001b[0;32m   3630\u001b[0m \u001b[39mexcept\u001b[39;00m \u001b[39mKeyError\u001b[39;00m \u001b[39mas\u001b[39;00m err:\n\u001b[1;32m-> 3631\u001b[0m     \u001b[39mraise\u001b[39;00m \u001b[39mKeyError\u001b[39;00m(key) \u001b[39mfrom\u001b[39;00m \u001b[39merr\u001b[39;00m\n\u001b[0;32m   3632\u001b[0m \u001b[39mexcept\u001b[39;00m \u001b[39mTypeError\u001b[39;00m:\n\u001b[0;32m   3633\u001b[0m     \u001b[39m# If we have a listlike key, _check_indexing_error will raise\u001b[39;00m\n\u001b[0;32m   3634\u001b[0m     \u001b[39m#  InvalidIndexError. Otherwise we fall through and re-raise\u001b[39;00m\n\u001b[0;32m   3635\u001b[0m     \u001b[39m#  the TypeError.\u001b[39;00m\n\u001b[0;32m   3636\u001b[0m     \u001b[39mself\u001b[39m\u001b[39m.\u001b[39m_check_indexing_error(key)\n",
      "\u001b[1;31mKeyError\u001b[0m: 'Contract ARR'"
     ]
    }
   ],
   "source": [
    "import warnings\n",
    "warnings.filterwarnings('ignore')\n",
    "warnings.simplefilter('ignore')\n",
    "\n",
    "import LicenseAnalysis as LA\n",
    "LA.printNoCustomers()"
   ]
  },
  {
   "cell_type": "markdown",
   "metadata": {},
   "source": [
    "<h2>These customers or this customer pays annually this amount of Support to Oracle for Oracle Database:</h2>"
   ]
  },
  {
   "cell_type": "code",
   "execution_count": null,
   "metadata": {},
   "outputs": [
    {
     "name": "stdout",
     "output_type": "stream",
     "text": [
      "\n",
      " ------------------------------  Summary of License Costs  ------------------------------\n",
      "                              Product Name License type  Quantity Contract ARR Average Discount\n",
      "                         Active Data Guard          NUP       225       $9,753             -81%\n",
      "                         Active Data Guard    Processor       182     $155,707             -93%\n",
      "                      Advanced Compression          NUP       175       $3,020             -92%\n",
      "                      Advanced Compression    Processor       231     $225,919             -91%\n",
      "                         Advanced Security    Processor       277     $323,771             -92%\n",
      "Data Masking Pack for Non Oracle Databases    Processor         5       $6,461             -89%\n",
      "                        Database In-Memory    Processor         5       $8,008             -93%\n",
      "        Database Lifecycle Management Pack    Processor        17      $16,121             -92%\n",
      "                            Database Vault    Processor        44      $52,536             -90%\n",
      "                          Diagnostics Pack          NUP       550       $8,289             -90%\n",
      "                          Diagnostics Pack    Processor       556     $383,809             -91%\n",
      "                               Multitenant          NUP       175       $4,596             -92%\n",
      "                                      OLAP    Processor        12      $39,536             -86%\n",
      "                 Oracle Advanced Analytics    Processor         8      $17,665             -90%\n",
      "  Oracle Audit Vault and Database Firewall    Processor        32      $14,135             -96%\n",
      "   Oracle Data Masking and Subsetting Pack    Processor        12      $14,341             -90%\n",
      "        Oracle Database Enterprise Edition          NUP      1350     $173,612             -86%\n",
      "        Oracle Database Enterprise Edition    Processor       600   $3,608,220             -87%\n",
      " Oracle Real Application Clusters One Node    Processor        12      $15,964             -94%\n",
      "                              Partitioning          NUP       485      $13,317             -88%\n",
      "                              Partitioning    Processor       485     $653,269             -88%\n",
      "                 Real Application Clusters          NUP       350      $24,481             -85%\n",
      "                 Real Application Clusters    Processor       242     $744,595             -87%\n",
      "                         Spatial and Graph    Processor        19      $24,182             -93%\n",
      "                               Tuning Pack          NUP       550       $5,881             -89%\n",
      "                               Tuning Pack    Processor       510     $265,035             -90%\n",
      "----------------------------------------------------------------------------------------------------\n",
      "Total:                                                           1,350    6,812,223             -88%\n"
     ]
    }
   ],
   "source": [
    "#import LicenseAnalysis as LA\n",
    "#global totalSupportPaid\n",
    "LA.printLicenseCosts()\n"
   ]
  },
  {
   "cell_type": "markdown",
   "metadata": {},
   "source": [
    "<h2>Based on the paid support we can analyse how many licenses you have and what is the size of the infrastrucure you can cover with these licenses. </h2>"
   ]
  },
  {
   "cell_type": "code",
   "execution_count": null,
   "metadata": {},
   "outputs": [
    {
     "name": "stdout",
     "output_type": "stream",
     "text": [
      "\n",
      " ------------------------------  Summary of Licenses  ------------------------------\n",
      "License type                                NUP Processor Total Intel cores  \\\n",
      "Product Name                                                                  \n",
      "Oracle Database Enterprise Edition          108     1,200             1,308   \n",
      "Diagnostics Pack                             44     1,112             1,156   \n",
      "Tuning Pack                                  44     1,020             1,064   \n",
      "Partitioning                                 38       970             1,008   \n",
      "Advanced Security                             0       554               554   \n",
      "Real Application Clusters                    28       484               512   \n",
      "Advanced Compression                         14       462               476   \n",
      "Active Data Guard                            18       364               382   \n",
      "Database Vault                                0        88                88   \n",
      "Oracle Audit Vault and Database Firewall      0        64                64   \n",
      "Spatial and Graph                             0        38                38   \n",
      "Database Lifecycle Management Pack            0        34                34   \n",
      "Oracle Data Masking and Subsetting Pack       0        24                24   \n",
      "Oracle Real Application Clusters One Node     0        24                24   \n",
      "OLAP                                          0        24                24   \n",
      "Oracle Advanced Analytics                     0        16                16   \n",
      "Multitenant                                  14         0                14   \n",
      "Database In-Memory                            0        10                10   \n",
      "Data Masking Pack for Non Oracle Databases    0        10                10   \n",
      "\n",
      "License type                               Percent  \n",
      "Product Name                                        \n",
      "Oracle Database Enterprise Edition            100%  \n",
      "Diagnostics Pack                               88%  \n",
      "Tuning Pack                                    81%  \n",
      "Partitioning                                   77%  \n",
      "Advanced Security                              42%  \n",
      "Real Application Clusters                      39%  \n",
      "Advanced Compression                           36%  \n",
      "Active Data Guard                              29%  \n",
      "Database Vault                                  7%  \n",
      "Oracle Audit Vault and Database Firewall        5%  \n",
      "Spatial and Graph                               3%  \n",
      "Database Lifecycle Management Pack              3%  \n",
      "Oracle Data Masking and Subsetting Pack         2%  \n",
      "Oracle Real Application Clusters One Node       2%  \n",
      "OLAP                                            2%  \n",
      "Oracle Advanced Analytics                       1%  \n",
      "Multitenant                                     1%  \n",
      "Database In-Memory                              1%  \n",
      "Data Masking Pack for Non Oracle Databases      1%  \n",
      "1308.0\n"
     ]
    }
   ],
   "source": [
    "import LicenseAnalysis as LA\n",
    "global max_cores_supported\n",
    "LA.printLicenseQuantities()"
   ]
  },
  {
   "cell_type": "markdown",
   "metadata": {},
   "source": [
    "If the customer has a ULA contract with Oracle, it makes difficult to do the sizing, because the customer has unlimited licenses, so we do not know exactly what is the utilized quantity. \n",
    "\n",
    "<h2>This (these) customer(s) currently has the following ULA licenses:</h2>"
   ]
  },
  {
   "cell_type": "code",
   "execution_count": null,
   "metadata": {},
   "outputs": [
    {
     "name": "stdout",
     "output_type": "stream",
     "text": [
      "\n",
      " ------------------------------  ULA Information  ------------------------------\n",
      "These customers has probably a ULA on these Licenses:\n",
      "                         Customer Name                       Product Name\n",
      "Polskie Sieci Elektroenergetyczne S.A. Oracle Database Enterprise Edition\n",
      "Polskie Sieci Elektroenergetyczne S.A.          Real Application Clusters\n",
      "Polskie Sieci Elektroenergetyczne S.A.                       Partitioning\n",
      "Polskie Sieci Elektroenergetyczne S.A.                   Diagnostics Pack\n",
      "Polskie Sieci Elektroenergetyczne S.A.                        Tuning Pack\n"
     ]
    }
   ],
   "source": [
    "import LicenseAnalysis as LA\n",
    "global customerHasULA\n",
    "\n",
    "customerHasULA=LA.printULAInfo()"
   ]
  },
  {
   "cell_type": "markdown",
   "metadata": {},
   "source": [
    "If the customer would consoldate all the workloads (excluding the workload which is covered by ULA) which are covered by the existing environment into a single ExaCC or ExaCS environment,\n",
    "\n",
    "<h2>This would be the required configuration to host the whole workload<h2>"
   ]
  },
  {
   "cell_type": "code",
   "execution_count": null,
   "metadata": {},
   "outputs": [
    {
     "name": "stdout",
     "output_type": "stream",
     "text": [
      "\n",
      " ------------------------------  Possible Exa target For The complete workload  ------------------------------\n",
      "\n",
      "Target Sizing for this installation:\n",
      "Configuration       Number    CPU      Storage\tMonthly Cost\n",
      "Full Rack               2       992     1,538\t$86,400\n",
      "Half Rack               1       248       384\t$21,600\n",
      "Quarter Rack            2       248       384\t$21,600\n",
      "Storage Expansion       5         0       320\t$10,800\n",
      "------------------------------------------------------------\n",
      "Total:                 10     1,488     2,626\t$140,400\n",
      "Total Annual Infrastructure cost: $1,684,800\n"
     ]
    }
   ],
   "source": [
    "import LicenseAnalysis as LA\n",
    "LA.printTargetSizing()"
   ]
  },
  {
   "cell_type": "code",
   "execution_count": null,
   "metadata": {
    "tags": [
     "parameters"
    ]
   },
   "outputs": [
    {
     "data": {
      "application/vnd.plotly.v1+json": {
       "config": {
        "plotlyServerURL": "https://plot.ly"
       },
       "data": [
        {
         "name": "Infra",
         "offsetgroup": "0",
         "text": [
          "Infra \n$1,256K",
          "Infra \n$1,685K",
          "Infra \n$1,633K",
          "Infra \n$1,685K",
          "Infra \n$1,633K"
         ],
         "textposition": "inside",
         "type": "bar",
         "x": [
          "On Premise",
          "ExaCC",
          "ExaCS",
          "ExaCC BYOL",
          "ExaCS BYOL"
         ],
         "y": [
          1255680,
          1684800,
          1632960,
          1684800,
          1632960
         ]
        },
        {
         "name": "License_Support",
         "offsetgroup": "0",
         "text": [
          "Lic. Support \n$6,812K",
          "",
          "",
          "Lic. Support \n$6,812K",
          "Lic. Support \n$6,812K"
         ],
         "textfont": {
          "color": "white"
         },
         "textposition": "inside",
         "type": "bar",
         "x": [
          "On Premise",
          "ExaCC",
          "ExaCS",
          "ExaCC BYOL",
          "ExaCS BYOL"
         ],
         "y": [
          6812223,
          0,
          0,
          6812223,
          6812223
         ]
        },
        {
         "name": "UC",
         "offsetgroup": "0",
         "text": [
          "",
          "UC \n$6,278K",
          "UC \n$6,278K",
          "UC \n$1,507K",
          "UC \n$1,507K"
         ],
         "textposition": "inside",
         "type": "bar",
         "x": [
          "On Premise",
          "ExaCC",
          "ExaCS",
          "ExaCC BYOL",
          "ExaCS BYOL"
         ],
         "y": [
          0,
          6278465.295360001,
          6278465.295360001,
          1506906.4089600001,
          1506906.4089600001
         ]
        },
        {
         "mode": "text",
         "showlegend": false,
         "text": [
          "+0% Total \n$8,068K",
          "-1% Total \n$7,963K",
          "-2% Total \n$7,911K",
          "+24% Total \n$10,004K",
          "+23% Total \n$9,952K"
         ],
         "textfont": {
          "size": 18
         },
         "textposition": "top center",
         "type": "scatter",
         "x": [
          "On Premise",
          "ExaCC",
          "ExaCS",
          "ExaCC BYOL",
          "ExaCS BYOL"
         ],
         "y": [
          8067903,
          7963265.295360001,
          7911425.295360001,
          10003929.40896,
          9952089.40896
         ]
        }
       ],
       "layout": {
        "bargap": 0.1,
        "barmode": "stack",
        "template": {
         "data": {
          "bar": [
           {
            "error_x": {
             "color": "#2a3f5f"
            },
            "error_y": {
             "color": "#2a3f5f"
            },
            "marker": {
             "line": {
              "color": "#E5ECF6",
              "width": 0.5
             },
             "pattern": {
              "fillmode": "overlay",
              "size": 10,
              "solidity": 0.2
             }
            },
            "type": "bar"
           }
          ],
          "barpolar": [
           {
            "marker": {
             "line": {
              "color": "#E5ECF6",
              "width": 0.5
             },
             "pattern": {
              "fillmode": "overlay",
              "size": 10,
              "solidity": 0.2
             }
            },
            "type": "barpolar"
           }
          ],
          "carpet": [
           {
            "aaxis": {
             "endlinecolor": "#2a3f5f",
             "gridcolor": "white",
             "linecolor": "white",
             "minorgridcolor": "white",
             "startlinecolor": "#2a3f5f"
            },
            "baxis": {
             "endlinecolor": "#2a3f5f",
             "gridcolor": "white",
             "linecolor": "white",
             "minorgridcolor": "white",
             "startlinecolor": "#2a3f5f"
            },
            "type": "carpet"
           }
          ],
          "choropleth": [
           {
            "colorbar": {
             "outlinewidth": 0,
             "ticks": ""
            },
            "type": "choropleth"
           }
          ],
          "contour": [
           {
            "colorbar": {
             "outlinewidth": 0,
             "ticks": ""
            },
            "colorscale": [
             [
              0,
              "#0d0887"
             ],
             [
              0.1111111111111111,
              "#46039f"
             ],
             [
              0.2222222222222222,
              "#7201a8"
             ],
             [
              0.3333333333333333,
              "#9c179e"
             ],
             [
              0.4444444444444444,
              "#bd3786"
             ],
             [
              0.5555555555555556,
              "#d8576b"
             ],
             [
              0.6666666666666666,
              "#ed7953"
             ],
             [
              0.7777777777777778,
              "#fb9f3a"
             ],
             [
              0.8888888888888888,
              "#fdca26"
             ],
             [
              1,
              "#f0f921"
             ]
            ],
            "type": "contour"
           }
          ],
          "contourcarpet": [
           {
            "colorbar": {
             "outlinewidth": 0,
             "ticks": ""
            },
            "type": "contourcarpet"
           }
          ],
          "heatmap": [
           {
            "colorbar": {
             "outlinewidth": 0,
             "ticks": ""
            },
            "colorscale": [
             [
              0,
              "#0d0887"
             ],
             [
              0.1111111111111111,
              "#46039f"
             ],
             [
              0.2222222222222222,
              "#7201a8"
             ],
             [
              0.3333333333333333,
              "#9c179e"
             ],
             [
              0.4444444444444444,
              "#bd3786"
             ],
             [
              0.5555555555555556,
              "#d8576b"
             ],
             [
              0.6666666666666666,
              "#ed7953"
             ],
             [
              0.7777777777777778,
              "#fb9f3a"
             ],
             [
              0.8888888888888888,
              "#fdca26"
             ],
             [
              1,
              "#f0f921"
             ]
            ],
            "type": "heatmap"
           }
          ],
          "heatmapgl": [
           {
            "colorbar": {
             "outlinewidth": 0,
             "ticks": ""
            },
            "colorscale": [
             [
              0,
              "#0d0887"
             ],
             [
              0.1111111111111111,
              "#46039f"
             ],
             [
              0.2222222222222222,
              "#7201a8"
             ],
             [
              0.3333333333333333,
              "#9c179e"
             ],
             [
              0.4444444444444444,
              "#bd3786"
             ],
             [
              0.5555555555555556,
              "#d8576b"
             ],
             [
              0.6666666666666666,
              "#ed7953"
             ],
             [
              0.7777777777777778,
              "#fb9f3a"
             ],
             [
              0.8888888888888888,
              "#fdca26"
             ],
             [
              1,
              "#f0f921"
             ]
            ],
            "type": "heatmapgl"
           }
          ],
          "histogram": [
           {
            "marker": {
             "pattern": {
              "fillmode": "overlay",
              "size": 10,
              "solidity": 0.2
             }
            },
            "type": "histogram"
           }
          ],
          "histogram2d": [
           {
            "colorbar": {
             "outlinewidth": 0,
             "ticks": ""
            },
            "colorscale": [
             [
              0,
              "#0d0887"
             ],
             [
              0.1111111111111111,
              "#46039f"
             ],
             [
              0.2222222222222222,
              "#7201a8"
             ],
             [
              0.3333333333333333,
              "#9c179e"
             ],
             [
              0.4444444444444444,
              "#bd3786"
             ],
             [
              0.5555555555555556,
              "#d8576b"
             ],
             [
              0.6666666666666666,
              "#ed7953"
             ],
             [
              0.7777777777777778,
              "#fb9f3a"
             ],
             [
              0.8888888888888888,
              "#fdca26"
             ],
             [
              1,
              "#f0f921"
             ]
            ],
            "type": "histogram2d"
           }
          ],
          "histogram2dcontour": [
           {
            "colorbar": {
             "outlinewidth": 0,
             "ticks": ""
            },
            "colorscale": [
             [
              0,
              "#0d0887"
             ],
             [
              0.1111111111111111,
              "#46039f"
             ],
             [
              0.2222222222222222,
              "#7201a8"
             ],
             [
              0.3333333333333333,
              "#9c179e"
             ],
             [
              0.4444444444444444,
              "#bd3786"
             ],
             [
              0.5555555555555556,
              "#d8576b"
             ],
             [
              0.6666666666666666,
              "#ed7953"
             ],
             [
              0.7777777777777778,
              "#fb9f3a"
             ],
             [
              0.8888888888888888,
              "#fdca26"
             ],
             [
              1,
              "#f0f921"
             ]
            ],
            "type": "histogram2dcontour"
           }
          ],
          "mesh3d": [
           {
            "colorbar": {
             "outlinewidth": 0,
             "ticks": ""
            },
            "type": "mesh3d"
           }
          ],
          "parcoords": [
           {
            "line": {
             "colorbar": {
              "outlinewidth": 0,
              "ticks": ""
             }
            },
            "type": "parcoords"
           }
          ],
          "pie": [
           {
            "automargin": true,
            "type": "pie"
           }
          ],
          "scatter": [
           {
            "fillpattern": {
             "fillmode": "overlay",
             "size": 10,
             "solidity": 0.2
            },
            "type": "scatter"
           }
          ],
          "scatter3d": [
           {
            "line": {
             "colorbar": {
              "outlinewidth": 0,
              "ticks": ""
             }
            },
            "marker": {
             "colorbar": {
              "outlinewidth": 0,
              "ticks": ""
             }
            },
            "type": "scatter3d"
           }
          ],
          "scattercarpet": [
           {
            "marker": {
             "colorbar": {
              "outlinewidth": 0,
              "ticks": ""
             }
            },
            "type": "scattercarpet"
           }
          ],
          "scattergeo": [
           {
            "marker": {
             "colorbar": {
              "outlinewidth": 0,
              "ticks": ""
             }
            },
            "type": "scattergeo"
           }
          ],
          "scattergl": [
           {
            "marker": {
             "colorbar": {
              "outlinewidth": 0,
              "ticks": ""
             }
            },
            "type": "scattergl"
           }
          ],
          "scattermapbox": [
           {
            "marker": {
             "colorbar": {
              "outlinewidth": 0,
              "ticks": ""
             }
            },
            "type": "scattermapbox"
           }
          ],
          "scatterpolar": [
           {
            "marker": {
             "colorbar": {
              "outlinewidth": 0,
              "ticks": ""
             }
            },
            "type": "scatterpolar"
           }
          ],
          "scatterpolargl": [
           {
            "marker": {
             "colorbar": {
              "outlinewidth": 0,
              "ticks": ""
             }
            },
            "type": "scatterpolargl"
           }
          ],
          "scatterternary": [
           {
            "marker": {
             "colorbar": {
              "outlinewidth": 0,
              "ticks": ""
             }
            },
            "type": "scatterternary"
           }
          ],
          "surface": [
           {
            "colorbar": {
             "outlinewidth": 0,
             "ticks": ""
            },
            "colorscale": [
             [
              0,
              "#0d0887"
             ],
             [
              0.1111111111111111,
              "#46039f"
             ],
             [
              0.2222222222222222,
              "#7201a8"
             ],
             [
              0.3333333333333333,
              "#9c179e"
             ],
             [
              0.4444444444444444,
              "#bd3786"
             ],
             [
              0.5555555555555556,
              "#d8576b"
             ],
             [
              0.6666666666666666,
              "#ed7953"
             ],
             [
              0.7777777777777778,
              "#fb9f3a"
             ],
             [
              0.8888888888888888,
              "#fdca26"
             ],
             [
              1,
              "#f0f921"
             ]
            ],
            "type": "surface"
           }
          ],
          "table": [
           {
            "cells": {
             "fill": {
              "color": "#EBF0F8"
             },
             "line": {
              "color": "white"
             }
            },
            "header": {
             "fill": {
              "color": "#C8D4E3"
             },
             "line": {
              "color": "white"
             }
            },
            "type": "table"
           }
          ]
         },
         "layout": {
          "annotationdefaults": {
           "arrowcolor": "#2a3f5f",
           "arrowhead": 0,
           "arrowwidth": 1
          },
          "autotypenumbers": "strict",
          "coloraxis": {
           "colorbar": {
            "outlinewidth": 0,
            "ticks": ""
           }
          },
          "colorscale": {
           "diverging": [
            [
             0,
             "#8e0152"
            ],
            [
             0.1,
             "#c51b7d"
            ],
            [
             0.2,
             "#de77ae"
            ],
            [
             0.3,
             "#f1b6da"
            ],
            [
             0.4,
             "#fde0ef"
            ],
            [
             0.5,
             "#f7f7f7"
            ],
            [
             0.6,
             "#e6f5d0"
            ],
            [
             0.7,
             "#b8e186"
            ],
            [
             0.8,
             "#7fbc41"
            ],
            [
             0.9,
             "#4d9221"
            ],
            [
             1,
             "#276419"
            ]
           ],
           "sequential": [
            [
             0,
             "#0d0887"
            ],
            [
             0.1111111111111111,
             "#46039f"
            ],
            [
             0.2222222222222222,
             "#7201a8"
            ],
            [
             0.3333333333333333,
             "#9c179e"
            ],
            [
             0.4444444444444444,
             "#bd3786"
            ],
            [
             0.5555555555555556,
             "#d8576b"
            ],
            [
             0.6666666666666666,
             "#ed7953"
            ],
            [
             0.7777777777777778,
             "#fb9f3a"
            ],
            [
             0.8888888888888888,
             "#fdca26"
            ],
            [
             1,
             "#f0f921"
            ]
           ],
           "sequentialminus": [
            [
             0,
             "#0d0887"
            ],
            [
             0.1111111111111111,
             "#46039f"
            ],
            [
             0.2222222222222222,
             "#7201a8"
            ],
            [
             0.3333333333333333,
             "#9c179e"
            ],
            [
             0.4444444444444444,
             "#bd3786"
            ],
            [
             0.5555555555555556,
             "#d8576b"
            ],
            [
             0.6666666666666666,
             "#ed7953"
            ],
            [
             0.7777777777777778,
             "#fb9f3a"
            ],
            [
             0.8888888888888888,
             "#fdca26"
            ],
            [
             1,
             "#f0f921"
            ]
           ]
          },
          "colorway": [
           "#636efa",
           "#EF553B",
           "#00cc96",
           "#ab63fa",
           "#FFA15A",
           "#19d3f3",
           "#FF6692",
           "#B6E880",
           "#FF97FF",
           "#FECB52"
          ],
          "font": {
           "color": "#2a3f5f"
          },
          "geo": {
           "bgcolor": "white",
           "lakecolor": "white",
           "landcolor": "#E5ECF6",
           "showlakes": true,
           "showland": true,
           "subunitcolor": "white"
          },
          "hoverlabel": {
           "align": "left"
          },
          "hovermode": "closest",
          "mapbox": {
           "style": "light"
          },
          "paper_bgcolor": "white",
          "plot_bgcolor": "#E5ECF6",
          "polar": {
           "angularaxis": {
            "gridcolor": "white",
            "linecolor": "white",
            "ticks": ""
           },
           "bgcolor": "#E5ECF6",
           "radialaxis": {
            "gridcolor": "white",
            "linecolor": "white",
            "ticks": ""
           }
          },
          "scene": {
           "xaxis": {
            "backgroundcolor": "#E5ECF6",
            "gridcolor": "white",
            "gridwidth": 2,
            "linecolor": "white",
            "showbackground": true,
            "ticks": "",
            "zerolinecolor": "white"
           },
           "yaxis": {
            "backgroundcolor": "#E5ECF6",
            "gridcolor": "white",
            "gridwidth": 2,
            "linecolor": "white",
            "showbackground": true,
            "ticks": "",
            "zerolinecolor": "white"
           },
           "zaxis": {
            "backgroundcolor": "#E5ECF6",
            "gridcolor": "white",
            "gridwidth": 2,
            "linecolor": "white",
            "showbackground": true,
            "ticks": "",
            "zerolinecolor": "white"
           }
          },
          "shapedefaults": {
           "line": {
            "color": "#2a3f5f"
           }
          },
          "ternary": {
           "aaxis": {
            "gridcolor": "white",
            "linecolor": "white",
            "ticks": ""
           },
           "baxis": {
            "gridcolor": "white",
            "linecolor": "white",
            "ticks": ""
           },
           "bgcolor": "#E5ECF6",
           "caxis": {
            "gridcolor": "white",
            "linecolor": "white",
            "ticks": ""
           }
          },
          "title": {
           "x": 0.05
          },
          "xaxis": {
           "automargin": true,
           "gridcolor": "white",
           "linecolor": "white",
           "ticks": "",
           "title": {
            "standoff": 15
           },
           "zerolinecolor": "white",
           "zerolinewidth": 2
          },
          "yaxis": {
           "automargin": true,
           "gridcolor": "white",
           "linecolor": "white",
           "ticks": "",
           "title": {
            "standoff": 15
           },
           "zerolinecolor": "white",
           "zerolinewidth": 2
          }
         }
        },
        "title": {
         "text": "4 years cost comparison"
        },
        "width": 1100,
        "yaxis": {
         "range": [
          0,
          12004715.290752
         ]
        }
       }
      }
     },
     "metadata": {},
     "output_type": "display_data"
    }
   ],
   "source": [
    "import pandas as pd\n",
    "import plotly.graph_objects as go\n",
    "import TCOComparison as TCO\n",
    "import LicenseAnalysis as LA\n",
    "\n",
    "max_cores_supported=LA.getMaxCoresSupported()\n",
    "totalSupportPaid=LA.getTotalSupportPaid()\n",
    "\n",
    "#totalSupportPaid=licenses[licenses[\"DB_Option\"]>0][\"Contract ARR\"].sum()\n",
    "TCO_result=TCO.TCO_comparison(\n",
    "    cores=max_cores_supported,\n",
    "    storageTB=max_cores_supported*2,\n",
    "    annualDBsupport=totalSupportPaid,\n",
    "    utilization=0.4)\n",
    "Scenarios = ['On Premise', 'ExaCC', 'ExaCS', 'ExaCC BYOL', 'ExaCS BYOL']\n",
    "Infrastructure = TCO_result['Infrastructure']\n",
    "License_support = TCO_result['DB Support']\n",
    "Universal_credits=TCO_result['UC']\n",
    "width = 0.9       # the width of the bars: can also be len(x) sequence\n",
    "\n",
    "#Totals=list(map(lambda a,b,c: a+b+c, Infrastructure, License_support,Universal_credits))\n",
    "Totals=TCO_result['Total']\n",
    "Reference='On Premise' # On the chart the savings will be displayed based on this reference\n",
    "\n",
    "data={'Scenarios':Scenarios,'Infra':Infrastructure,'License_support':License_support,'UC':Universal_credits}\n",
    "df=pd.DataFrame(data)\n",
    "df.set_index('Scenarios', inplace=True)\n",
    "fig=go.Figure(\n",
    "    data=[\n",
    "        go.Bar(\n",
    "            name=\"Infra\",\n",
    "            x=df.index,\n",
    "            y=df.Infra,\n",
    "            offsetgroup=0,\n",
    "            text=list(map(lambda val: 'Infra \\n${:,.0f}K'.format(val/1000) if(val>0) else \"\",df.Infra)),\n",
    "            textposition=\"inside\"\n",
    "        ),\n",
    "         go.Bar(\n",
    "            name=\"License_Support\",\n",
    "            x=df.index,\n",
    "            y=df.License_support,\n",
    "            offsetgroup=0,\n",
    "            text=list(map(lambda val: 'Lic. Support \\n${:,.0f}K'.format(val/1000) if(val>0) else \"\",df.License_support)),\n",
    "            textposition=\"inside\",\n",
    "            textfont=dict(\n",
    "                color=\"white\"\n",
    "            )\n",
    "        ),       \n",
    "        go.Bar(\n",
    "            name=\"UC\",\n",
    "            x=df.index,\n",
    "            y=df.UC,\n",
    "            offsetgroup=0,\n",
    "            text=list(map(lambda val: 'UC \\n${:,.0f}K'.format(val/1000) if(val>0) else \"\",df.UC)),\n",
    "            textposition=\"inside\"\n",
    "        )\n",
    "    ]\n",
    ")\n",
    "fig.update_layout(barmode=\"stack\",bargap=0.1)\n",
    "\n",
    "totalSum=df.sum(axis=\"columns\")\n",
    "totalSumText=list(map(lambda val: '{:+.0%} Total \\n${:,.0f}K'.format(val/totalSum[Reference]-1,val/1000) if(val>0) else \"\",totalSum))\n",
    "fig.add_trace(go.Scatter(\n",
    "#    x=df.Scenarios, \n",
    "    x=df.index,\n",
    "    y=totalSum,\n",
    "    text=totalSumText,\n",
    "    mode=\"text\",\n",
    "    textposition='top center',\n",
    "    textfont=dict(\n",
    "        size=18,\n",
    "    ),\n",
    "    showlegend=False\n",
    "))\n",
    "fig.update_yaxes(range=[0,totalSum.max()*1.2])\n",
    "fig.update_layout(title=\"4 years cost comparison\",width=df.index.size*220)\n",
    "fig.show()"
   ]
  }
 ],
 "metadata": {
  "kernelspec": {
   "display_name": "Python 3.10.7 64-bit",
   "language": "python",
   "name": "python3"
  },
  "language_info": {
   "codemirror_mode": {
    "name": "ipython",
    "version": 3
   },
   "file_extension": ".py",
   "mimetype": "text/x-python",
   "name": "python",
   "nbconvert_exporter": "python",
   "pygments_lexer": "ipython3",
   "version": "3.10.7"
  },
  "orig_nbformat": 4,
  "vscode": {
   "interpreter": {
    "hash": "0ff93906f050b30a45bc0d72cc570a481b0c9193fdae39fcec4cf4bc848e7e61"
   }
  }
 },
 "nbformat": 4,
 "nbformat_minor": 2
}
