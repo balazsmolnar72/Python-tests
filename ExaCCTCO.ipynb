{
 "cells": [
  {
   "cell_type": "code",
   "execution_count": 2,
   "metadata": {},
   "outputs": [
    {
     "name": "stdout",
     "output_type": "stream",
     "text": [
      "This analysis contains information about 79 customers\n",
      "\n",
      "\n",
      " ------------------------------  Summary of License Costs  ------------------------------\n",
      "                              Product Name License type  Quantity Contract ARR Average Discount\n",
      "                         Active Data Guard          NUP       225       $9,753             -81%\n",
      "                         Active Data Guard    Processor       182     $155,707             -93%\n",
      "                      Advanced Compression          NUP       175       $3,020             -92%\n",
      "                      Advanced Compression    Processor       231     $225,919             -91%\n",
      "                         Advanced Security    Processor       277     $323,771             -92%\n",
      "Data Masking Pack for Non Oracle Databases    Processor         5       $6,461             -89%\n",
      "                        Database In-Memory    Processor         5       $8,008             -93%\n",
      "        Database Lifecycle Management Pack    Processor        17      $16,121             -92%\n",
      "                            Database Vault    Processor        44      $52,536             -90%\n",
      "                          Diagnostics Pack          NUP       550       $8,289             -90%\n",
      "                          Diagnostics Pack    Processor       556     $383,809             -91%\n",
      "                               Multitenant          NUP       175       $4,596             -92%\n",
      "                                      OLAP    Processor        12      $39,536             -86%\n",
      "                 Oracle Advanced Analytics    Processor         8      $17,665             -90%\n",
      "  Oracle Audit Vault and Database Firewall    Processor        32      $14,135             -96%\n",
      "   Oracle Data Masking and Subsetting Pack    Processor        12      $14,341             -90%\n",
      "        Oracle Database Enterprise Edition          NUP      1350     $173,612             -86%\n",
      "        Oracle Database Enterprise Edition    Processor       600   $3,608,220             -87%\n",
      " Oracle Real Application Clusters One Node    Processor        12      $15,964             -94%\n",
      "                              Partitioning          NUP       485      $13,317             -88%\n",
      "                              Partitioning    Processor       485     $653,269             -88%\n",
      "                 Real Application Clusters          NUP       350      $24,481             -85%\n",
      "                 Real Application Clusters    Processor       242     $744,595             -87%\n",
      "                         Spatial and Graph    Processor        19      $24,182             -93%\n",
      "                               Tuning Pack          NUP       550       $5,881             -89%\n",
      "                               Tuning Pack    Processor       510     $265,035             -90%\n",
      "----------------------------------------------------------------------------------------------------\n",
      "Total:                                                           1,350    6,812,223             -88%\n"
     ]
    }
   ],
   "source": []
  }
 ],
 "metadata": {
  "kernelspec": {
   "display_name": "Python 3.10.7 64-bit",
   "language": "python",
   "name": "python3"
  },
  "language_info": {
   "codemirror_mode": {
    "name": "ipython",
    "version": 3
   },
   "file_extension": ".py",
   "mimetype": "text/x-python",
   "name": "python",
   "nbconvert_exporter": "python",
   "pygments_lexer": "ipython3",
   "version": "3.10.7"
  },
  "orig_nbformat": 4,
  "vscode": {
   "interpreter": {
    "hash": "0ff93906f050b30a45bc0d72cc570a481b0c9193fdae39fcec4cf4bc848e7e61"
   }
  }
 },
 "nbformat": 4,
 "nbformat_minor": 2
}
