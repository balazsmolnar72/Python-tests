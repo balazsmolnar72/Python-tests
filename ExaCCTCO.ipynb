{
 "cells": [
  {
   "cell_type": "code",
   "execution_count": 61,
   "metadata": {},
   "outputs": [
    {
     "name": "stdout",
     "output_type": "stream",
     "text": [
      "This analysis contains information about 79 customers\n",
      "\n",
      "1308.0\n",
      "6812223\n"
     ]
    }
   ],
   "source": [
    "import LicenseAnalysis as LA\n",
    "LA.printNoCustomers()"
   ]
  },
  {
   "cell_type": "markdown",
   "metadata": {},
   "source": [
    "<h2>These customers or this customer pays annually this amount of Support to Oracle for Oracle Database:</h2>"
   ]
  },
  {
   "cell_type": "code",
   "execution_count": 45,
   "metadata": {},
   "outputs": [
    {
     "name": "stdout",
     "output_type": "stream",
     "text": [
      "\n",
      " ------------------------------  Summary of License Costs  ------------------------------\n",
      "                              Product Name License type  Quantity Contract ARR Average Discount\n",
      "                         Active Data Guard          NUP       225       $9,753             -81%\n",
      "                         Active Data Guard    Processor       182     $155,707             -93%\n",
      "                      Advanced Compression          NUP       175       $3,020             -92%\n",
      "                      Advanced Compression    Processor       231     $225,919             -91%\n",
      "                         Advanced Security    Processor       277     $323,771             -92%\n",
      "Data Masking Pack for Non Oracle Databases    Processor         5       $6,461             -89%\n",
      "                        Database In-Memory    Processor         5       $8,008             -93%\n",
      "        Database Lifecycle Management Pack    Processor        17      $16,121             -92%\n",
      "                            Database Vault    Processor        44      $52,536             -90%\n",
      "                          Diagnostics Pack          NUP       550       $8,289             -90%\n",
      "                          Diagnostics Pack    Processor       556     $383,809             -91%\n",
      "                               Multitenant          NUP       175       $4,596             -92%\n",
      "                                      OLAP    Processor        12      $39,536             -86%\n",
      "                 Oracle Advanced Analytics    Processor         8      $17,665             -90%\n",
      "  Oracle Audit Vault and Database Firewall    Processor        32      $14,135             -96%\n",
      "   Oracle Data Masking and Subsetting Pack    Processor        12      $14,341             -90%\n",
      "        Oracle Database Enterprise Edition          NUP      1350     $173,612             -86%\n",
      "        Oracle Database Enterprise Edition    Processor       600   $3,608,220             -87%\n",
      " Oracle Real Application Clusters One Node    Processor        12      $15,964             -94%\n",
      "                              Partitioning          NUP       485      $13,317             -88%\n",
      "                              Partitioning    Processor       485     $653,269             -88%\n",
      "                 Real Application Clusters          NUP       350      $24,481             -85%\n",
      "                 Real Application Clusters    Processor       242     $744,595             -87%\n",
      "                         Spatial and Graph    Processor        19      $24,182             -93%\n",
      "                               Tuning Pack          NUP       550       $5,881             -89%\n",
      "                               Tuning Pack    Processor       510     $265,035             -90%\n",
      "----------------------------------------------------------------------------------------------------\n",
      "Total:                                                           1,350    6,812,223             -88%\n"
     ]
    }
   ],
   "source": [
    "#import LicenseAnalysis as LA\n",
    "#global totalSupportPaid\n",
    "LA.printLicenseCosts()\n"
   ]
  },
  {
   "cell_type": "markdown",
   "metadata": {},
   "source": [
    "<h2>Based on the paid support we can analyse how many licenses you have and what is the size of the infrastrucure you can cover with these licenses. </h2>"
   ]
  },
  {
   "cell_type": "code",
   "execution_count": null,
   "metadata": {},
   "outputs": [
    {
     "name": "stdout",
     "output_type": "stream",
     "text": [
      "\n",
      " ------------------------------  Summary of Licenses  ------------------------------\n",
      "License type                                NUP Processor Total Intel cores  \\\n",
      "Product Name                                                                  \n",
      "Oracle Database Enterprise Edition          108     1,200             1,308   \n",
      "Diagnostics Pack                             44     1,112             1,156   \n",
      "Tuning Pack                                  44     1,020             1,064   \n",
      "Partitioning                                 38       970             1,008   \n",
      "Advanced Security                             0       554               554   \n",
      "Real Application Clusters                    28       484               512   \n",
      "Advanced Compression                         14       462               476   \n",
      "Active Data Guard                            18       364               382   \n",
      "Database Vault                                0        88                88   \n",
      "Oracle Audit Vault and Database Firewall      0        64                64   \n",
      "Spatial and Graph                             0        38                38   \n",
      "Database Lifecycle Management Pack            0        34                34   \n",
      "Oracle Data Masking and Subsetting Pack       0        24                24   \n",
      "Oracle Real Application Clusters One Node     0        24                24   \n",
      "OLAP                                          0        24                24   \n",
      "Oracle Advanced Analytics                     0        16                16   \n",
      "Multitenant                                  14         0                14   \n",
      "Database In-Memory                            0        10                10   \n",
      "Data Masking Pack for Non Oracle Databases    0        10                10   \n",
      "\n",
      "License type                               Percent  \n",
      "Product Name                                        \n",
      "Oracle Database Enterprise Edition            100%  \n",
      "Diagnostics Pack                               88%  \n",
      "Tuning Pack                                    81%  \n",
      "Partitioning                                   77%  \n",
      "Advanced Security                              42%  \n",
      "Real Application Clusters                      39%  \n",
      "Advanced Compression                           36%  \n",
      "Active Data Guard                              29%  \n",
      "Database Vault                                  7%  \n",
      "Oracle Audit Vault and Database Firewall        5%  \n",
      "Spatial and Graph                               3%  \n",
      "Database Lifecycle Management Pack              3%  \n",
      "Oracle Data Masking and Subsetting Pack         2%  \n",
      "Oracle Real Application Clusters One Node       2%  \n",
      "OLAP                                            2%  \n",
      "Oracle Advanced Analytics                       1%  \n",
      "Multitenant                                     1%  \n",
      "Database In-Memory                              1%  \n",
      "Data Masking Pack for Non Oracle Databases      1%  \n",
      "1308.0\n"
     ]
    }
   ],
   "source": [
    "import LicenseAnalysis as LA\n",
    "global max_cores_supported\n",
    "LA.printLicenseQuantities()"
   ]
  },
  {
   "cell_type": "markdown",
   "metadata": {},
   "source": [
    "If the customer has a ULA contract with Oracle, it makes difficult to do the sizing, because the customer has unlimited licenses, so we do not know exactly what is the utilized quantity. \n",
    "\n",
    "<h2>This (these) customer(s) currently has the following ULA licenses:</h2>"
   ]
  },
  {
   "cell_type": "code",
   "execution_count": null,
   "metadata": {},
   "outputs": [
    {
     "name": "stdout",
     "output_type": "stream",
     "text": [
      "\n",
      " ------------------------------  ULA Information  ------------------------------\n",
      "These customers has probably a ULA on these Licenses:\n",
      "                         Customer Name                       Product Name\n",
      "Polskie Sieci Elektroenergetyczne S.A. Oracle Database Enterprise Edition\n",
      "Polskie Sieci Elektroenergetyczne S.A.          Real Application Clusters\n",
      "Polskie Sieci Elektroenergetyczne S.A.                       Partitioning\n",
      "Polskie Sieci Elektroenergetyczne S.A.                   Diagnostics Pack\n",
      "Polskie Sieci Elektroenergetyczne S.A.                        Tuning Pack\n"
     ]
    }
   ],
   "source": [
    "import LicenseAnalysis as LA\n",
    "global customerHasULA\n",
    "\n",
    "customerHasULA=LA.printULAInfo()"
   ]
  },
  {
   "cell_type": "markdown",
   "metadata": {},
   "source": [
    "If the customer would consoldate all the workloads (excluding the workload which is covered by ULA) which are covered by the existing environment into a single ExaCC or ExaCS environment,\n",
    "\n",
    "<h2>This would be the required configuration to host the whole workload<h2>"
   ]
  },
  {
   "cell_type": "code",
   "execution_count": null,
   "metadata": {},
   "outputs": [
    {
     "name": "stdout",
     "output_type": "stream",
     "text": [
      "\n",
      " ------------------------------  Possible Exa target For The complete workload  ------------------------------\n",
      "\n",
      "Target Sizing for this installation:\n",
      "Configuration       Number    CPU      Storage\tMonthly Cost\n",
      "Full Rack               2       992     1,538\t$86,400\n",
      "Half Rack               1       248       384\t$21,600\n",
      "Quarter Rack            2       248       384\t$21,600\n",
      "Storage Expansion       5         0       320\t$10,800\n",
      "------------------------------------------------------------\n",
      "Total:                 10     1,488     2,626\t$140,400\n",
      "Total Annual Infrastructure cost: $1,684,800\n"
     ]
    }
   ],
   "source": [
    "import LicenseAnalysis as LA\n",
    "LA.printTargetSizing()"
   ]
  },
  {
   "cell_type": "code",
   "execution_count": 1,
   "metadata": {
    "tags": [
     "parameters"
    ]
   },
   "outputs": [
    {
     "data": {
      "application/vnd.plotly.v1+json": {
       "config": {
        "plotlyServerURL": "https://plot.ly"
       },
       "data": [
        {
         "name": "Infra",
         "offsetgroup": "0",
         "text": [
          "Infra \n$1,256K",
          "Infra \n$1,685K",
          "Infra \n$1,633K",
          "Infra \n$1,685K",
          "Infra \n$1,633K"
         ],
         "textposition": "inside",
         "type": "bar",
         "x": [
          "On Premise",
          "ExaCC",
          "ExaCS",
          "ExaCC BYOL",
          "ExaCS BYOL"
         ],
         "y": [
          1255680,
          1684800,
          1632960,
          1684800,
          1632960
         ]
        },
        {
         "name": "License_Support",
         "offsetgroup": "0",
         "text": [
          "Lic. Support \n$6,812K",
          "",
          "",
          "Lic. Support \n$6,812K",
          "Lic. Support \n$6,812K"
         ],
         "textfont": {
          "color": "white"
         },
         "textposition": "inside",
         "type": "bar",
         "x": [
          "On Premise",
          "ExaCC",
          "ExaCS",
          "ExaCC BYOL",
          "ExaCS BYOL"
         ],
         "y": [
          6812223,
          0,
          0,
          6812223,
          6812223
         ]
        },
        {
         "name": "UC",
         "offsetgroup": "0",
         "text": [
          "",
          "UC \n$6,278K",
          "UC \n$6,278K",
          "UC \n$1,507K",
          "UC \n$1,507K"
         ],
         "textposition": "inside",
         "type": "bar",
         "x": [
          "On Premise",
          "ExaCC",
          "ExaCS",
          "ExaCC BYOL",
          "ExaCS BYOL"
         ],
         "y": [
          0,
          6278465.295360001,
          6278465.295360001,
          1506906.4089600001,
          1506906.4089600001
         ]
        },
        {
         "mode": "text",
         "showlegend": false,
         "text": [
          "+0% Total \n$8,068K",
          "-1% Total \n$7,963K",
          "-2% Total \n$7,911K",
          "+24% Total \n$10,004K",
          "+23% Total \n$9,952K"
         ],
         "textfont": {
          "size": 18
         },
         "textposition": "top center",
         "type": "scatter",
         "x": [
          "On Premise",
          "ExaCC",
          "ExaCS",
          "ExaCC BYOL",
          "ExaCS BYOL"
         ],
         "y": [
          8067903,
          7963265.295360001,
          7911425.295360001,
          10003929.40896,
          9952089.40896
         ]
        }
       ],
       "layout": {
        "bargap": 0.1,
        "barmode": "stack",
        "template": {
         "data": {
          "bar": [
           {
            "error_x": {
             "color": "#2a3f5f"
            },
            "error_y": {
             "color": "#2a3f5f"
            },
            "marker": {
             "line": {
              "color": "#E5ECF6",
              "width": 0.5
             },
             "pattern": {
              "fillmode": "overlay",
              "size": 10,
              "solidity": 0.2
             }
            },
            "type": "bar"
           }
          ],
          "barpolar": [
           {
            "marker": {
             "line": {
              "color": "#E5ECF6",
              "width": 0.5
             },
             "pattern": {
              "fillmode": "overlay",
              "size": 10,
              "solidity": 0.2
             }
            },
            "type": "barpolar"
           }
          ],
          "carpet": [
           {
            "aaxis": {
             "endlinecolor": "#2a3f5f",
             "gridcolor": "white",
             "linecolor": "white",
             "minorgridcolor": "white",
             "startlinecolor": "#2a3f5f"
            },
            "baxis": {
             "endlinecolor": "#2a3f5f",
             "gridcolor": "white",
             "linecolor": "white",
             "minorgridcolor": "white",
             "startlinecolor": "#2a3f5f"
            },
            "type": "carpet"
           }
          ],
          "choropleth": [
           {
            "colorbar": {
             "outlinewidth": 0,
             "ticks": ""
            },
            "type": "choropleth"
           }
          ],
          "contour": [
           {
            "colorbar": {
             "outlinewidth": 0,
             "ticks": ""
            },
            "colorscale": [
             [
              0,
              "#0d0887"
             ],
             [
              0.1111111111111111,
              "#46039f"
             ],
             [
              0.2222222222222222,
              "#7201a8"
             ],
             [
              0.3333333333333333,
              "#9c179e"
             ],
             [
              0.4444444444444444,
              "#bd3786"
             ],
             [
              0.5555555555555556,
              "#d8576b"
             ],
             [
              0.6666666666666666,
              "#ed7953"
             ],
             [
              0.7777777777777778,
              "#fb9f3a"
             ],
             [
              0.8888888888888888,
              "#fdca26"
             ],
             [
              1,
              "#f0f921"
             ]
            ],
            "type": "contour"
           }
          ],
          "contourcarpet": [
           {
            "colorbar": {
             "outlinewidth": 0,
             "ticks": ""
            },
            "type": "contourcarpet"
           }
          ],
          "heatmap": [
           {
            "colorbar": {
             "outlinewidth": 0,
             "ticks": ""
            },
            "colorscale": [
             [
              0,
              "#0d0887"
             ],
             [
              0.1111111111111111,
              "#46039f"
             ],
             [
              0.2222222222222222,
              "#7201a8"
             ],
             [
              0.3333333333333333,
              "#9c179e"
             ],
             [
              0.4444444444444444,
              "#bd3786"
             ],
             [
              0.5555555555555556,
              "#d8576b"
             ],
             [
              0.6666666666666666,
              "#ed7953"
             ],
             [
              0.7777777777777778,
              "#fb9f3a"
             ],
             [
              0.8888888888888888,
              "#fdca26"
             ],
             [
              1,
              "#f0f921"
             ]
            ],
            "type": "heatmap"
           }
          ],
          "heatmapgl": [
           {
            "colorbar": {
             "outlinewidth": 0,
             "ticks": ""
            },
            "colorscale": [
             [
              0,
              "#0d0887"
             ],
             [
              0.1111111111111111,
              "#46039f"
             ],
             [
              0.2222222222222222,
              "#7201a8"
             ],
             [
              0.3333333333333333,
              "#9c179e"
             ],
             [
              0.4444444444444444,
              "#bd3786"
             ],
             [
              0.5555555555555556,
              "#d8576b"
             ],
             [
              0.6666666666666666,
              "#ed7953"
             ],
             [
              0.7777777777777778,
              "#fb9f3a"
             ],
             [
              0.8888888888888888,
              "#fdca26"
             ],
             [
              1,
              "#f0f921"
             ]
            ],
            "type": "heatmapgl"
           }
          ],
          "histogram": [
           {
            "marker": {
             "pattern": {
              "fillmode": "overlay",
              "size": 10,
              "solidity": 0.2
             }
            },
            "type": "histogram"
           }
          ],
          "histogram2d": [
           {
            "colorbar": {
             "outlinewidth": 0,
             "ticks": ""
            },
            "colorscale": [
             [
              0,
              "#0d0887"
             ],
             [
              0.1111111111111111,
              "#46039f"
             ],
             [
              0.2222222222222222,
              "#7201a8"
             ],
             [
              0.3333333333333333,
              "#9c179e"
             ],
             [
              0.4444444444444444,
              "#bd3786"
             ],
             [
              0.5555555555555556,
              "#d8576b"
             ],
             [
              0.6666666666666666,
              "#ed7953"
             ],
             [
              0.7777777777777778,
              "#fb9f3a"
             ],
             [
              0.8888888888888888,
              "#fdca26"
             ],
             [
              1,
              "#f0f921"
             ]
            ],
            "type": "histogram2d"
           }
          ],
          "histogram2dcontour": [
           {
            "colorbar": {
             "outlinewidth": 0,
             "ticks": ""
            },
            "colorscale": [
             [
              0,
              "#0d0887"
             ],
             [
              0.1111111111111111,
              "#46039f"
             ],
             [
              0.2222222222222222,
              "#7201a8"
             ],
             [
              0.3333333333333333,
              "#9c179e"
             ],
             [
              0.4444444444444444,
              "#bd3786"
             ],
             [
              0.5555555555555556,
              "#d8576b"
             ],
             [
              0.6666666666666666,
              "#ed7953"
             ],
             [
              0.7777777777777778,
              "#fb9f3a"
             ],
             [
              0.8888888888888888,
              "#fdca26"
             ],
             [
              1,
              "#f0f921"
             ]
            ],
            "type": "histogram2dcontour"
           }
          ],
          "mesh3d": [
           {
            "colorbar": {
             "outlinewidth": 0,
             "ticks": ""
            },
            "type": "mesh3d"
           }
          ],
          "parcoords": [
           {
            "line": {
             "colorbar": {
              "outlinewidth": 0,
              "ticks": ""
             }
            },
            "type": "parcoords"
           }
          ],
          "pie": [
           {
            "automargin": true,
            "type": "pie"
           }
          ],
          "scatter": [
           {
            "fillpattern": {
             "fillmode": "overlay",
             "size": 10,
             "solidity": 0.2
            },
            "type": "scatter"
           }
          ],
          "scatter3d": [
           {
            "line": {
             "colorbar": {
              "outlinewidth": 0,
              "ticks": ""
             }
            },
            "marker": {
             "colorbar": {
              "outlinewidth": 0,
              "ticks": ""
             }
            },
            "type": "scatter3d"
           }
          ],
          "scattercarpet": [
           {
            "marker": {
             "colorbar": {
              "outlinewidth": 0,
              "ticks": ""
             }
            },
            "type": "scattercarpet"
           }
          ],
          "scattergeo": [
           {
            "marker": {
             "colorbar": {
              "outlinewidth": 0,
              "ticks": ""
             }
            },
            "type": "scattergeo"
           }
          ],
          "scattergl": [
           {
            "marker": {
             "colorbar": {
              "outlinewidth": 0,
              "ticks": ""
             }
            },
            "type": "scattergl"
           }
          ],
          "scattermapbox": [
           {
            "marker": {
             "colorbar": {
              "outlinewidth": 0,
              "ticks": ""
             }
            },
            "type": "scattermapbox"
           }
          ],
          "scatterpolar": [
           {
            "marker": {
             "colorbar": {
              "outlinewidth": 0,
              "ticks": ""
             }
            },
            "type": "scatterpolar"
           }
          ],
          "scatterpolargl": [
           {
            "marker": {
             "colorbar": {
              "outlinewidth": 0,
              "ticks": ""
             }
            },
            "type": "scatterpolargl"
           }
          ],
          "scatterternary": [
           {
            "marker": {
             "colorbar": {
              "outlinewidth": 0,
              "ticks": ""
             }
            },
            "type": "scatterternary"
           }
          ],
          "surface": [
           {
            "colorbar": {
             "outlinewidth": 0,
             "ticks": ""
            },
            "colorscale": [
             [
              0,
              "#0d0887"
             ],
             [
              0.1111111111111111,
              "#46039f"
             ],
             [
              0.2222222222222222,
              "#7201a8"
             ],
             [
              0.3333333333333333,
              "#9c179e"
             ],
             [
              0.4444444444444444,
              "#bd3786"
             ],
             [
              0.5555555555555556,
              "#d8576b"
             ],
             [
              0.6666666666666666,
              "#ed7953"
             ],
             [
              0.7777777777777778,
              "#fb9f3a"
             ],
             [
              0.8888888888888888,
              "#fdca26"
             ],
             [
              1,
              "#f0f921"
             ]
            ],
            "type": "surface"
           }
          ],
          "table": [
           {
            "cells": {
             "fill": {
              "color": "#EBF0F8"
             },
             "line": {
              "color": "white"
             }
            },
            "header": {
             "fill": {
              "color": "#C8D4E3"
             },
             "line": {
              "color": "white"
             }
            },
            "type": "table"
           }
          ]
         },
         "layout": {
          "annotationdefaults": {
           "arrowcolor": "#2a3f5f",
           "arrowhead": 0,
           "arrowwidth": 1
          },
          "autotypenumbers": "strict",
          "coloraxis": {
           "colorbar": {
            "outlinewidth": 0,
            "ticks": ""
           }
          },
          "colorscale": {
           "diverging": [
            [
             0,
             "#8e0152"
            ],
            [
             0.1,
             "#c51b7d"
            ],
            [
             0.2,
             "#de77ae"
            ],
            [
             0.3,
             "#f1b6da"
            ],
            [
             0.4,
             "#fde0ef"
            ],
            [
             0.5,
             "#f7f7f7"
            ],
            [
             0.6,
             "#e6f5d0"
            ],
            [
             0.7,
             "#b8e186"
            ],
            [
             0.8,
             "#7fbc41"
            ],
            [
             0.9,
             "#4d9221"
            ],
            [
             1,
             "#276419"
            ]
           ],
           "sequential": [
            [
             0,
             "#0d0887"
            ],
            [
             0.1111111111111111,
             "#46039f"
            ],
            [
             0.2222222222222222,
             "#7201a8"
            ],
            [
             0.3333333333333333,
             "#9c179e"
            ],
            [
             0.4444444444444444,
             "#bd3786"
            ],
            [
             0.5555555555555556,
             "#d8576b"
            ],
            [
             0.6666666666666666,
             "#ed7953"
            ],
            [
             0.7777777777777778,
             "#fb9f3a"
            ],
            [
             0.8888888888888888,
             "#fdca26"
            ],
            [
             1,
             "#f0f921"
            ]
           ],
           "sequentialminus": [
            [
             0,
             "#0d0887"
            ],
            [
             0.1111111111111111,
             "#46039f"
            ],
            [
             0.2222222222222222,
             "#7201a8"
            ],
            [
             0.3333333333333333,
             "#9c179e"
            ],
            [
             0.4444444444444444,
             "#bd3786"
            ],
            [
             0.5555555555555556,
             "#d8576b"
            ],
            [
             0.6666666666666666,
             "#ed7953"
            ],
            [
             0.7777777777777778,
             "#fb9f3a"
            ],
            [
             0.8888888888888888,
             "#fdca26"
            ],
            [
             1,
             "#f0f921"
            ]
           ]
          },
          "colorway": [
           "#636efa",
           "#EF553B",
           "#00cc96",
           "#ab63fa",
           "#FFA15A",
           "#19d3f3",
           "#FF6692",
           "#B6E880",
           "#FF97FF",
           "#FECB52"
          ],
          "font": {
           "color": "#2a3f5f"
          },
          "geo": {
           "bgcolor": "white",
           "lakecolor": "white",
           "landcolor": "#E5ECF6",
           "showlakes": true,
           "showland": true,
           "subunitcolor": "white"
          },
          "hoverlabel": {
           "align": "left"
          },
          "hovermode": "closest",
          "mapbox": {
           "style": "light"
          },
          "paper_bgcolor": "white",
          "plot_bgcolor": "#E5ECF6",
          "polar": {
           "angularaxis": {
            "gridcolor": "white",
            "linecolor": "white",
            "ticks": ""
           },
           "bgcolor": "#E5ECF6",
           "radialaxis": {
            "gridcolor": "white",
            "linecolor": "white",
            "ticks": ""
           }
          },
          "scene": {
           "xaxis": {
            "backgroundcolor": "#E5ECF6",
            "gridcolor": "white",
            "gridwidth": 2,
            "linecolor": "white",
            "showbackground": true,
            "ticks": "",
            "zerolinecolor": "white"
           },
           "yaxis": {
            "backgroundcolor": "#E5ECF6",
            "gridcolor": "white",
            "gridwidth": 2,
            "linecolor": "white",
            "showbackground": true,
            "ticks": "",
            "zerolinecolor": "white"
           },
           "zaxis": {
            "backgroundcolor": "#E5ECF6",
            "gridcolor": "white",
            "gridwidth": 2,
            "linecolor": "white",
            "showbackground": true,
            "ticks": "",
            "zerolinecolor": "white"
           }
          },
          "shapedefaults": {
           "line": {
            "color": "#2a3f5f"
           }
          },
          "ternary": {
           "aaxis": {
            "gridcolor": "white",
            "linecolor": "white",
            "ticks": ""
           },
           "baxis": {
            "gridcolor": "white",
            "linecolor": "white",
            "ticks": ""
           },
           "bgcolor": "#E5ECF6",
           "caxis": {
            "gridcolor": "white",
            "linecolor": "white",
            "ticks": ""
           }
          },
          "title": {
           "x": 0.05
          },
          "xaxis": {
           "automargin": true,
           "gridcolor": "white",
           "linecolor": "white",
           "ticks": "",
           "title": {
            "standoff": 15
           },
           "zerolinecolor": "white",
           "zerolinewidth": 2
          },
          "yaxis": {
           "automargin": true,
           "gridcolor": "white",
           "linecolor": "white",
           "ticks": "",
           "title": {
            "standoff": 15
           },
           "zerolinecolor": "white",
           "zerolinewidth": 2
          }
         }
        },
        "title": {
         "text": "4 years cost comparison"
        },
        "width": 1100,
        "yaxis": {
         "range": [
          0,
          12004715.290752
         ]
        }
       }
      }
     },
     "metadata": {},
     "output_type": "display_data"
    }
   ],
   "source": [
    "import pandas as pd\n",
    "import plotly.graph_objects as go\n",
    "import TCOComparison as TCO\n",
    "import LicenseAnalysis as LA\n",
    "\n",
    "max_cores_supported=LA.getMaxCoresSupported()\n",
    "totalSupportPaid=LA.getTotalSupportPaid()\n",
    "\n",
    "#totalSupportPaid=licenses[licenses[\"DB_Option\"]>0][\"Contract ARR\"].sum()\n",
    "TCO_result=TCO.TCO_comparison(\n",
    "    cores=max_cores_supported,\n",
    "    storageTB=max_cores_supported*2,\n",
    "    annualDBsupport=totalSupportPaid,\n",
    "    utilization=0.4)\n",
    "Scenarios = ['On Premise', 'ExaCC', 'ExaCS', 'ExaCC BYOL', 'ExaCS BYOL']\n",
    "Infrastructure = TCO_result['Infrastructure']\n",
    "License_support = TCO_result['DB Support']\n",
    "Universal_credits=TCO_result['UC']\n",
    "width = 0.9       # the width of the bars: can also be len(x) sequence\n",
    "\n",
    "#Totals=list(map(lambda a,b,c: a+b+c, Infrastructure, License_support,Universal_credits))\n",
    "Totals=TCO_result['Total']\n",
    "Reference='On Premise' # On the chart the savings will be displayed based on this reference\n",
    "\n",
    "data={'Scenarios':Scenarios,'Infra':Infrastructure,'License_support':License_support,'UC':Universal_credits}\n",
    "df=pd.DataFrame(data)\n",
    "df.set_index('Scenarios', inplace=True)\n",
    "fig=go.Figure(\n",
    "    data=[\n",
    "        go.Bar(\n",
    "            name=\"Infra\",\n",
    "            x=df.index,\n",
    "            y=df.Infra,\n",
    "            offsetgroup=0,\n",
    "            text=list(map(lambda val: 'Infra \\n${:,.0f}K'.format(val/1000) if(val>0) else \"\",df.Infra)),\n",
    "            textposition=\"inside\"\n",
    "        ),\n",
    "         go.Bar(\n",
    "            name=\"License_Support\",\n",
    "            x=df.index,\n",
    "            y=df.License_support,\n",
    "            offsetgroup=0,\n",
    "            text=list(map(lambda val: 'Lic. Support \\n${:,.0f}K'.format(val/1000) if(val>0) else \"\",df.License_support)),\n",
    "            textposition=\"inside\",\n",
    "            textfont=dict(\n",
    "                color=\"white\"\n",
    "            )\n",
    "        ),       \n",
    "        go.Bar(\n",
    "            name=\"UC\",\n",
    "            x=df.index,\n",
    "            y=df.UC,\n",
    "            offsetgroup=0,\n",
    "            text=list(map(lambda val: 'UC \\n${:,.0f}K'.format(val/1000) if(val>0) else \"\",df.UC)),\n",
    "            textposition=\"inside\"\n",
    "        )\n",
    "    ]\n",
    ")\n",
    "fig.update_layout(barmode=\"stack\",bargap=0.1)\n",
    "\n",
    "totalSum=df.sum(axis=\"columns\")\n",
    "totalSumText=list(map(lambda val: '{:+.0%} Total \\n${:,.0f}K'.format(val/totalSum[Reference]-1,val/1000) if(val>0) else \"\",totalSum))\n",
    "fig.add_trace(go.Scatter(\n",
    "#    x=df.Scenarios, \n",
    "    x=df.index,\n",
    "    y=totalSum,\n",
    "    text=totalSumText,\n",
    "    mode=\"text\",\n",
    "    textposition='top center',\n",
    "    textfont=dict(\n",
    "        size=18,\n",
    "    ),\n",
    "    showlegend=False\n",
    "))\n",
    "fig.update_yaxes(range=[0,totalSum.max()*1.2])\n",
    "fig.update_layout(title=\"4 years cost comparison\",width=df.index.size*220)\n",
    "fig.show()"
   ]
  }
 ],
 "metadata": {
  "kernelspec": {
   "display_name": "Python 3.10.7 64-bit",
   "language": "python",
   "name": "python3"
  },
  "language_info": {
   "codemirror_mode": {
    "name": "ipython",
    "version": 3
   },
   "file_extension": ".py",
   "mimetype": "text/x-python",
   "name": "python",
   "nbconvert_exporter": "python",
   "pygments_lexer": "ipython3",
   "version": "3.10.7"
  },
  "orig_nbformat": 4,
  "vscode": {
   "interpreter": {
    "hash": "0ff93906f050b30a45bc0d72cc570a481b0c9193fdae39fcec4cf4bc848e7e61"
   }
  }
 },
 "nbformat": 4,
 "nbformat_minor": 2
}
